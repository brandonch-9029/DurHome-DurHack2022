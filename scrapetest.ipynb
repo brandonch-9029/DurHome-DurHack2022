{
 "cells": [
  {
   "cell_type": "code",
   "execution_count": 139,
   "id": "d1c8c2f0",
   "metadata": {},
   "outputs": [],
   "source": [
    "# Request html of Durham properties\n",
    "import requests\n",
    "import re\n",
    "from bs4 import BeautifulSoup\n",
    "durham = \"https://www.rightmove.co.uk/student-accommodation/Durham.html\"\n",
    "durhamListings = requests.get(durham)"
   ]
  },
  {
   "cell_type": "code",
   "execution_count": 140,
   "id": "193d1022",
   "metadata": {},
   "outputs": [],
   "source": [
    "# function that generates a list of hyperlinks for each property found\n",
    "links = []\n",
    "def getPropertyLinks():\n",
    "    x = 0\n",
    "    soup = BeautifulSoup(durhamListings.content,\"html.parser\")\n",
    "    for a in soup.find_all(\"a\", class_=\"propertyCard-link\"):\n",
    "        if a['href'] != \"\":\n",
    "            hyperlink = \"https://www.rightmove.co.uk\" + a['href']\n",
    "            if hyperlink not in links:\n",
    "                links.append(hyperlink)\n",
    "                x += 1\n",
    "    print(x, \"properties found\")\n",
    "    print(links)"
   ]
  },
  {
   "cell_type": "code",
   "execution_count": 141,
   "id": "71a79a49",
   "metadata": {},
   "outputs": [
    {
     "name": "stdout",
     "output_type": "stream",
     "text": [
      "24 properties found\n",
      "['https://www.rightmove.co.uk/properties/120163952#/?channel=STU_LET', 'https://www.rightmove.co.uk/properties/120013298#/?channel=STU_LET', 'https://www.rightmove.co.uk/properties/119851841#/?channel=STU_LET', 'https://www.rightmove.co.uk/properties/119658029#/?channel=STU_LET', 'https://www.rightmove.co.uk/properties/119443010#/?channel=STU_LET', 'https://www.rightmove.co.uk/properties/83598762#/?channel=STU_LET', 'https://www.rightmove.co.uk/properties/119186702#/?channel=STU_LET', 'https://www.rightmove.co.uk/properties/119092295#/?channel=STU_LET', 'https://www.rightmove.co.uk/properties/118728917#/?channel=STU_LET', 'https://www.rightmove.co.uk/properties/116883431#/?channel=STU_LET', 'https://www.rightmove.co.uk/properties/116218499#/?channel=STU_LET', 'https://www.rightmove.co.uk/properties/115914395#/?channel=STU_LET', 'https://www.rightmove.co.uk/properties/115900127#/?channel=STU_LET', 'https://www.rightmove.co.uk/properties/115823618#/?channel=STU_LET', 'https://www.rightmove.co.uk/properties/115826699#/?channel=STU_LET', 'https://www.rightmove.co.uk/properties/53815896#/?channel=STU_LET', 'https://www.rightmove.co.uk/properties/115197629#/?channel=STU_LET', 'https://www.rightmove.co.uk/properties/82153920#/?channel=STU_LET', 'https://www.rightmove.co.uk/properties/115009493#/?channel=STU_LET', 'https://www.rightmove.co.uk/properties/115009652#/?channel=STU_LET', 'https://www.rightmove.co.uk/properties/115009307#/?channel=STU_LET', 'https://www.rightmove.co.uk/properties/115009403#/?channel=STU_LET', 'https://www.rightmove.co.uk/properties/115009229#/?channel=STU_LET', 'https://www.rightmove.co.uk/properties/115009025#/?channel=STU_LET']\n"
     ]
    }
   ],
   "source": [
    "getPropertyLinks()"
   ]
  },
  {
   "cell_type": "code",
   "execution_count": 142,
   "id": "6bbcfde7",
   "metadata": {},
   "outputs": [],
   "source": [
    "# define property class with attributes\n",
    "properties = []\n",
    "class Property:\n",
    "    def __init__(self, name, price, propertytype, beds, baths, link, furnished, billsincluded, parkingspace):\n",
    "        self.name = name\n",
    "        self.price = price\n",
    "        self.propertytype = propertytype\n",
    "        self.beds = beds\n",
    "        self.baths = baths\n",
    "        self.link = link\n",
    "        self.furnished = furnished\n",
    "        self.billsincluded = billsincluded\n",
    "        self.parkingspace = parkingspace\n",
    "        "
   ]
  },
  {
   "cell_type": "code",
   "execution_count": 143,
   "id": "57fd7030",
   "metadata": {},
   "outputs": [],
   "source": [
    "def findKeyInfo():\n",
    "    propertytype = \"unknown\"\n",
    "    beds = \"unknown\"\n",
    "    baths = \"unknown\"\n",
    "    for m in broth.find_all('div', class_='_1u12RxIYGx3c84eaGxI6_b'):\n",
    "        for mm in m.find_all('div', class_='tmJOVKTrHAB4bLpcMjzQ'):\n",
    "            if mm.text == \"PROPERTY TYPE\":\n",
    "                for mmm in m.find_all('div', class_='_1fcftXUEbWfJOJzIUeIHKt'):\n",
    "                    propertytype = mmm.text\n",
    "            if mm.text == \"BEDROOMS\":\n",
    "                for mmm in m.find_all('div', class_='_1fcftXUEbWfJOJzIUeIHKt'):\n",
    "                    beds = mmm.text\n",
    "            if mm.text == \"BATHROOMS\":\n",
    "                for mmm in m.find_all('div', class_='_1fcftXUEbWfJOJzIUeIHKt'):\n",
    "                    baths = mmm.text"
   ]
  },
  {
   "cell_type": "code",
   "execution_count": 144,
   "id": "4cb1b0a7",
   "metadata": {},
   "outputs": [],
   "source": [
    "def findBillArrangement():\n",
    "# check key features first\n",
    "    ul = broth.find_all('ul', class_=\"_1uI3IvdF5sIuBtRIvKrreQ\")\n",
    "    for li in ul:\n",
    "        liF = li.find_all('li')\n",
    "        for li in liF:\n",
    "            string = li.text\n",
    "            checkBills = re.search(\"(?i)(\\\\bbills\\\\b)\", string)\n",
    "            if checkBills:\n",
    "                checkNot = re.search(\"(?i)(\\\\bnot\\\\b)\", string)\n",
    "                checkNo = re.search(\"(?i)(\\\\bno\\\\b)\", string)\n",
    "                checkNoninclusive = re.search(\"(?i)(\\\\bnon-inclusive\\\\b)\", string)\n",
    "                checkExclusive = re.search(\"(?i)(\\\\bexclusive\\\\b)\", string)\n",
    "                checkOption = re.search(\"(?i)(\\\\boption\\\\b)\", string)\n",
    "                if checkNot:\n",
    "                    billsincluded = False\n",
    "                elif checkNo:\n",
    "                    billsincluded = False\n",
    "                elif checkNoninclusive:\n",
    "                    billsincluded = False\n",
    "                elif checkExclusive:\n",
    "                    billsincluded = False\n",
    "                elif checkOption:\n",
    "                    billsincluded = \"Option Available\"\n",
    "                else:\n",
    "                    billsincluded = True\n",
    "                return billsincluded"
   ]
  },
  {
   "cell_type": "code",
   "execution_count": 145,
   "id": "f0e0ed1b",
   "metadata": {},
   "outputs": [],
   "source": [
    "# function that takes a Rightmove property listing as input, scrapes property data, then appends to list of properties\n",
    "\n",
    "def scrapePropertyLink(propertyLink):\n",
    "    page = requests.get(propertyLink)\n",
    "    broth = BeautifulSoup(page.content,\"html.parser\")\n",
    "\n",
    "    # find house name\n",
    "    for h1 in broth.find_all('h1', itemprop='streetAddress'):\n",
    "        name = h1.text\n",
    "\n",
    "    # find price per week\n",
    "    for div in broth.find_all('div', class_=\"HXfWxKgwCdWTESd5VaU73\"):\n",
    "        price = div.text\n",
    "        \n",
    "    # find house type, no. of beds and bathrooms\n",
    "    findKeyInfo()\n",
    "\n",
    "    # find hyperlink to property\n",
    "    link = propertyLink\n",
    "    \n",
    "    # furnishing status\n",
    "    furnished = \"Unknown\"\n",
    "    div = broth.find_all('div', class_=\"_2RnXSVJcWbWv4IpBC1Sng6\")\n",
    "    for dd in div:\n",
    "        ddF = dd.find_all('dd')\n",
    "        for dd in ddF:\n",
    "            if dd.text == \"Furnished\":\n",
    "                furnished = True\n",
    "            if dd.text == \"Unfurnished\":\n",
    "                furnished = False\n",
    "\n",
    "    # bills\n",
    "    findBillArrangement()\n",
    "    \n",
    "    # parking\n",
    "    parkingspace = \"Unknown\"\n",
    "    \n",
    "    # Create object with known information, then append to list of properties\n",
    "    prop = Property(name, price, propertytype, beds, baths, link, furnished, billsincluded, parkingspace)\n",
    "    \n",
    "    properties.append(prop)"
   ]
  },
  {
   "cell_type": "code",
   "execution_count": null,
   "id": "302b1bf1",
   "metadata": {},
   "outputs": [],
   "source": []
  },
  {
   "cell_type": "code",
   "execution_count": 146,
   "id": "e0ed6aea",
   "metadata": {},
   "outputs": [],
   "source": [
    "properties = []\n",
    "current = \"https://www.rightmove.co.uk/properties/120013298#/?channel=STU_LET\"\n",
    "scrapePropertyLink(current)"
   ]
  },
  {
   "cell_type": "code",
   "execution_count": 147,
   "id": "d2bc0d0d",
   "metadata": {},
   "outputs": [],
   "source": [
    "def showProperty(g):\n",
    "    print(\"Name:\", properties[g].name)\n",
    "    print(\"Price:\", properties[g].price)\n",
    "    print(\"Type:\", properties[g].propertytype)\n",
    "    print(\"Bedrooms:\", properties[g].beds)\n",
    "    print(\"Bathrooms:\", properties[g].baths)\n",
    "    print(\"Link:\", properties[g].link)\n",
    "    print(\"Furnished:\", properties[g].furnished)\n",
    "    print(\"Bills Included:\", properties[g].billsincluded)\n",
    "    print(\"Parking Space:\", properties[g].parkingspace)"
   ]
  },
  {
   "cell_type": "code",
   "execution_count": 148,
   "id": "914b1679",
   "metadata": {},
   "outputs": [
    {
     "name": "stdout",
     "output_type": "stream",
     "text": [
      "Name: Flat C, Brookwell House, Durham, DH1\n",
      "Price: £133 pw\n",
      "Type: unknown\n",
      "Bedrooms: ×5\n",
      "Bathrooms: ×1\n",
      "Link: https://www.rightmove.co.uk/properties/120013298#/?channel=STU_LET\n",
      "Furnished: True\n",
      "Bills Included: True\n",
      "Parking Space: Unknown\n"
     ]
    }
   ],
   "source": [
    "showProperty(0)"
   ]
  }
 ],
 "metadata": {
  "kernelspec": {
   "display_name": "Python 3",
   "language": "python",
   "name": "python3"
  },
  "language_info": {
   "codemirror_mode": {
    "name": "ipython",
    "version": 3
   },
   "file_extension": ".py",
   "mimetype": "text/x-python",
   "name": "python",
   "nbconvert_exporter": "python",
   "pygments_lexer": "ipython3",
   "version": "3.8.8"
  }
 },
 "nbformat": 4,
 "nbformat_minor": 5
}
